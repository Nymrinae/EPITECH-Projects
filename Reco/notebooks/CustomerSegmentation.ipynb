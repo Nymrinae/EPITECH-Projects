{
  "nbformat": 4,
  "nbformat_minor": 0,
  "metadata": {
    "colab": {
      "name": "CustomerSegmentation.ipynb",
      "provenance": [],
      "collapsed_sections": [],
      "toc_visible": true
    },
    "kernelspec": {
      "name": "python3",
      "display_name": "Python 3"
    },
    "language_info": {
      "name": "python"
    }
  },
  "cells": [
    {
      "cell_type": "markdown",
      "source": [
        "# Project setup\n",
        "\n",
        "Before we start anything we are going to have to setup our project by performing the necessary imports"
      ],
      "metadata": {
        "id": "hlMWOnUYqI2o"
      }
    },
    {
      "cell_type": "markdown",
      "source": [
        "## Imports"
      ],
      "metadata": {
        "id": "K0JeEvDHss8U"
      }
    },
    {
      "cell_type": "code",
      "execution_count": 1,
      "metadata": {
        "id": "xvqfnwTAmAsX"
      },
      "outputs": [],
      "source": [
        "from google.colab import drive\n",
        "from pandas.api.types import is_numeric_dtype\n",
        "from sklearn.cluster import KMeans\n",
        "from sklearn.decomposition import PCA\n",
        "from sklearn.metrics import silhouette_samples, silhouette_score\n",
        "\n",
        "import matplotlib.pyplot as plt\n",
        "import numpy as np\n",
        "import os\n",
        "import pandas as pd\n",
        "import seaborn as sns"
      ]
    },
    {
      "cell_type": "markdown",
      "source": [
        "Our datasets have been uploaded to Google Drive for easier access. We need to download it from there before any data processing can take place."
      ],
      "metadata": {
        "id": "CKqUgqltq76m"
      }
    },
    {
      "cell_type": "code",
      "source": [
        "drive.mount('/content/drive')\n",
        "!cp '/content/drive/MyDrive/Machine Learning/recommender/ClientSummary.h5' -d '/content/'\n",
        "!cp '/content/drive/MyDrive/Machine Learning/recommender/KaDo.h5' -d '/content/'"
      ],
      "metadata": {
        "colab": {
          "base_uri": "https://localhost:8080/"
        },
        "id": "7AF_BrpFrW-s",
        "outputId": "6378bd85-d00d-4d9d-fc19-588558bf0144"
      },
      "execution_count": 2,
      "outputs": [
        {
          "output_type": "stream",
          "name": "stdout",
          "text": [
            "Drive already mounted at /content/drive; to attempt to forcibly remount, call drive.mount(\"/content/drive\", force_remount=True).\n"
          ]
        }
      ]
    },
    {
      "cell_type": "markdown",
      "source": [
        "## Global Variables\n",
        "As a rule of thumb we'll define our project configuration as a series of constant insteads of using hard-coded values in our code."
      ],
      "metadata": {
        "id": "29M1B9ZwtZ13"
      }
    },
    {
      "cell_type": "code",
      "source": [
        "DATASET_HDF5_PATH = '/content/KaDo.h5'\n",
        "CUSTOMER_DATASET_HDF5_PATH = '/content/ClientSummary.h5'"
      ],
      "metadata": {
        "id": "tGAfRNJQtiq7"
      },
      "execution_count": 3,
      "outputs": []
    },
    {
      "cell_type": "markdown",
      "source": [
        "# Data loading\n",
        "Let's load in in our dataset to get started on our customer segmentation journey."
      ],
      "metadata": {
        "id": "95U7AP0Is59J"
      }
    },
    {
      "cell_type": "code",
      "source": [
        "df = pd.read_hdf(DATASET_HDF5_PATH)"
      ],
      "metadata": {
        "id": "we0-1ILYs9mD"
      },
      "execution_count": 4,
      "outputs": []
    },
    {
      "cell_type": "markdown",
      "source": [
        "# Data exploration and aggregation\n",
        "Displaying the first few rows of our dataset is always a good idea as it gives us and initial vision of what out data looks like and what fields we make be working with."
      ],
      "metadata": {
        "id": "oUS03uIpuke4"
      }
    },
    {
      "cell_type": "code",
      "source": [
        "df.head()"
      ],
      "metadata": {
        "colab": {
          "base_uri": "https://localhost:8080/",
          "height": 206
        },
        "id": "HhS4nrXw0BrS",
        "outputId": "217e7544-f48f-4200-f4b5-3578981e2e3e"
      },
      "execution_count": 5,
      "outputs": [
        {
          "output_type": "execute_result",
          "data": {
            "text/html": [
              "\n",
              "  <div id=\"df-4d7d9498-210b-4f23-87ed-aadf36c26277\">\n",
              "    <div class=\"colab-df-container\">\n",
              "      <div>\n",
              "<style scoped>\n",
              "    .dataframe tbody tr th:only-of-type {\n",
              "        vertical-align: middle;\n",
              "    }\n",
              "\n",
              "    .dataframe tbody tr th {\n",
              "        vertical-align: top;\n",
              "    }\n",
              "\n",
              "    .dataframe thead th {\n",
              "        text-align: right;\n",
              "    }\n",
              "</style>\n",
              "<table border=\"1\" class=\"dataframe\">\n",
              "  <thead>\n",
              "    <tr style=\"text-align: right;\">\n",
              "      <th></th>\n",
              "      <th>TICKET_ID</th>\n",
              "      <th>MOIS_VENTE</th>\n",
              "      <th>PRIX_NET</th>\n",
              "      <th>FAMILLE</th>\n",
              "      <th>UNIVERS</th>\n",
              "      <th>MAILLE</th>\n",
              "      <th>LIBELLE</th>\n",
              "      <th>CLI_ID</th>\n",
              "    </tr>\n",
              "  </thead>\n",
              "  <tbody>\n",
              "    <tr>\n",
              "      <th>0</th>\n",
              "      <td>35592159</td>\n",
              "      <td>10</td>\n",
              "      <td>1.67</td>\n",
              "      <td>HYGIENE</td>\n",
              "      <td>HYG_DOUCHE JARDINMONDE</td>\n",
              "      <td>HYG_JDM</td>\n",
              "      <td>GD JDM4 PAMPLEMOUSSE FL 200ML</td>\n",
              "      <td>1490281</td>\n",
              "    </tr>\n",
              "    <tr>\n",
              "      <th>1</th>\n",
              "      <td>35592159</td>\n",
              "      <td>10</td>\n",
              "      <td>1.66</td>\n",
              "      <td>HYGIENE</td>\n",
              "      <td>HYG_DOUCHE JARDINMONDE</td>\n",
              "      <td>HYG_JDM</td>\n",
              "      <td>GD JDM4 PAMPLEMOUSSE FL 200ML</td>\n",
              "      <td>1490281</td>\n",
              "    </tr>\n",
              "    <tr>\n",
              "      <th>2</th>\n",
              "      <td>35592159</td>\n",
              "      <td>10</td>\n",
              "      <td>7.45</td>\n",
              "      <td>SOINS DU VISAGE</td>\n",
              "      <td>VIS_CJOUR Jeunes Specifique</td>\n",
              "      <td>VIS_JEUNE_ET_LEVRE</td>\n",
              "      <td>CR JR PARF BIO.SPE AC.SENT.50ML</td>\n",
              "      <td>1490281</td>\n",
              "    </tr>\n",
              "    <tr>\n",
              "      <th>3</th>\n",
              "      <td>35592159</td>\n",
              "      <td>10</td>\n",
              "      <td>5.95</td>\n",
              "      <td>SOINS DU VISAGE</td>\n",
              "      <td>VIS_DEMAQ AAAR</td>\n",
              "      <td>VIS_AAAR_DEMAQLOTION</td>\n",
              "      <td>EAU MICELLAIRE 3 THES FL200ML</td>\n",
              "      <td>1490281</td>\n",
              "    </tr>\n",
              "    <tr>\n",
              "      <th>4</th>\n",
              "      <td>35592159</td>\n",
              "      <td>10</td>\n",
              "      <td>1.67</td>\n",
              "      <td>HYGIENE</td>\n",
              "      <td>HYG_DOUCHE JARDINMONDE</td>\n",
              "      <td>HYG_JDM</td>\n",
              "      <td>GD JDM4 TIARE FL 200ML</td>\n",
              "      <td>1490281</td>\n",
              "    </tr>\n",
              "  </tbody>\n",
              "</table>\n",
              "</div>\n",
              "      <button class=\"colab-df-convert\" onclick=\"convertToInteractive('df-4d7d9498-210b-4f23-87ed-aadf36c26277')\"\n",
              "              title=\"Convert this dataframe to an interactive table.\"\n",
              "              style=\"display:none;\">\n",
              "        \n",
              "  <svg xmlns=\"http://www.w3.org/2000/svg\" height=\"24px\"viewBox=\"0 0 24 24\"\n",
              "       width=\"24px\">\n",
              "    <path d=\"M0 0h24v24H0V0z\" fill=\"none\"/>\n",
              "    <path d=\"M18.56 5.44l.94 2.06.94-2.06 2.06-.94-2.06-.94-.94-2.06-.94 2.06-2.06.94zm-11 1L8.5 8.5l.94-2.06 2.06-.94-2.06-.94L8.5 2.5l-.94 2.06-2.06.94zm10 10l.94 2.06.94-2.06 2.06-.94-2.06-.94-.94-2.06-.94 2.06-2.06.94z\"/><path d=\"M17.41 7.96l-1.37-1.37c-.4-.4-.92-.59-1.43-.59-.52 0-1.04.2-1.43.59L10.3 9.45l-7.72 7.72c-.78.78-.78 2.05 0 2.83L4 21.41c.39.39.9.59 1.41.59.51 0 1.02-.2 1.41-.59l7.78-7.78 2.81-2.81c.8-.78.8-2.07 0-2.86zM5.41 20L4 18.59l7.72-7.72 1.47 1.35L5.41 20z\"/>\n",
              "  </svg>\n",
              "      </button>\n",
              "      \n",
              "  <style>\n",
              "    .colab-df-container {\n",
              "      display:flex;\n",
              "      flex-wrap:wrap;\n",
              "      gap: 12px;\n",
              "    }\n",
              "\n",
              "    .colab-df-convert {\n",
              "      background-color: #E8F0FE;\n",
              "      border: none;\n",
              "      border-radius: 50%;\n",
              "      cursor: pointer;\n",
              "      display: none;\n",
              "      fill: #1967D2;\n",
              "      height: 32px;\n",
              "      padding: 0 0 0 0;\n",
              "      width: 32px;\n",
              "    }\n",
              "\n",
              "    .colab-df-convert:hover {\n",
              "      background-color: #E2EBFA;\n",
              "      box-shadow: 0px 1px 2px rgba(60, 64, 67, 0.3), 0px 1px 3px 1px rgba(60, 64, 67, 0.15);\n",
              "      fill: #174EA6;\n",
              "    }\n",
              "\n",
              "    [theme=dark] .colab-df-convert {\n",
              "      background-color: #3B4455;\n",
              "      fill: #D2E3FC;\n",
              "    }\n",
              "\n",
              "    [theme=dark] .colab-df-convert:hover {\n",
              "      background-color: #434B5C;\n",
              "      box-shadow: 0px 1px 3px 1px rgba(0, 0, 0, 0.15);\n",
              "      filter: drop-shadow(0px 1px 2px rgba(0, 0, 0, 0.3));\n",
              "      fill: #FFFFFF;\n",
              "    }\n",
              "  </style>\n",
              "\n",
              "      <script>\n",
              "        const buttonEl =\n",
              "          document.querySelector('#df-4d7d9498-210b-4f23-87ed-aadf36c26277 button.colab-df-convert');\n",
              "        buttonEl.style.display =\n",
              "          google.colab.kernel.accessAllowed ? 'block' : 'none';\n",
              "\n",
              "        async function convertToInteractive(key) {\n",
              "          const element = document.querySelector('#df-4d7d9498-210b-4f23-87ed-aadf36c26277');\n",
              "          const dataTable =\n",
              "            await google.colab.kernel.invokeFunction('convertToInteractive',\n",
              "                                                     [key], {});\n",
              "          if (!dataTable) return;\n",
              "\n",
              "          const docLinkHtml = 'Like what you see? Visit the ' +\n",
              "            '<a target=\"_blank\" href=https://colab.research.google.com/notebooks/data_table.ipynb>data table notebook</a>'\n",
              "            + ' to learn more about interactive tables.';\n",
              "          element.innerHTML = '';\n",
              "          dataTable['output_type'] = 'display_data';\n",
              "          await google.colab.output.renderOutput(dataTable, element);\n",
              "          const docLink = document.createElement('div');\n",
              "          docLink.innerHTML = docLinkHtml;\n",
              "          element.appendChild(docLink);\n",
              "        }\n",
              "      </script>\n",
              "    </div>\n",
              "  </div>\n",
              "  "
            ],
            "text/plain": [
              "   TICKET_ID  MOIS_VENTE  ...                          LIBELLE   CLI_ID\n",
              "0   35592159          10  ...    GD JDM4 PAMPLEMOUSSE FL 200ML  1490281\n",
              "1   35592159          10  ...    GD JDM4 PAMPLEMOUSSE FL 200ML  1490281\n",
              "2   35592159          10  ...  CR JR PARF BIO.SPE AC.SENT.50ML  1490281\n",
              "3   35592159          10  ...    EAU MICELLAIRE 3 THES FL200ML  1490281\n",
              "4   35592159          10  ...           GD JDM4 TIARE FL 200ML  1490281\n",
              "\n",
              "[5 rows x 8 columns]"
            ]
          },
          "metadata": {},
          "execution_count": 5
        }
      ]
    },
    {
      "cell_type": "markdown",
      "source": [
        "Next let's take a look at data integrity. We should ensure that no data is missing from any of the columns and if so take appropriate action."
      ],
      "metadata": {
        "id": "E8OEkHLpsteP"
      }
    },
    {
      "cell_type": "code",
      "source": [
        "print(f'Missing values in each column: \\n{df.isnull().sum()}')"
      ],
      "metadata": {
        "colab": {
          "base_uri": "https://localhost:8080/"
        },
        "id": "LvjGxSON0Zma",
        "outputId": "a67fe7c0-8036-4f0d-b578-cd91e3e47ff1"
      },
      "execution_count": 6,
      "outputs": [
        {
          "output_type": "stream",
          "name": "stdout",
          "text": [
            "Missing values in each column: \n",
            "TICKET_ID     0\n",
            "MOIS_VENTE    0\n",
            "PRIX_NET      0\n",
            "FAMILLE       0\n",
            "UNIVERS       0\n",
            "MAILLE        0\n",
            "LIBELLE       0\n",
            "CLI_ID        0\n",
            "dtype: int64\n"
          ]
        }
      ]
    },
    {
      "cell_type": "markdown",
      "source": [
        "Perfec!!! Nothing seems to be missing. Now lets take a look at our datatypes to see if we need to perform any conversions for our future calculations."
      ],
      "metadata": {
        "id": "KeeD16SRuGaN"
      }
    },
    {
      "cell_type": "code",
      "source": [
        "df.dtypes"
      ],
      "metadata": {
        "colab": {
          "base_uri": "https://localhost:8080/"
        },
        "id": "Sydt4TpU0ttv",
        "outputId": "70406000-0e3a-4ce4-edab-fa0ed11f5eec"
      },
      "execution_count": 7,
      "outputs": [
        {
          "output_type": "execute_result",
          "data": {
            "text/plain": [
              "TICKET_ID       uint32\n",
              "MOIS_VENTE       uint8\n",
              "PRIX_NET       float32\n",
              "FAMILLE       category\n",
              "UNIVERS       category\n",
              "MAILLE        category\n",
              "LIBELLE       category\n",
              "CLI_ID          uint32\n",
              "dtype: object"
            ]
          },
          "metadata": {},
          "execution_count": 7
        }
      ]
    },
    {
      "cell_type": "markdown",
      "source": [
        "Now let's perform some aggregations on the data to acquire a purchase history summary for all our clients."
      ],
      "metadata": {
        "id": "yNKj2-LCuy3T"
      }
    },
    {
      "cell_type": "code",
      "source": [
        "\"\"\"\n",
        "Use this code snippet to generate the dataframe for the first time and save to\n",
        "and h5 file\n",
        "\"\"\"\n",
        "# customer_groups = df.groupby('CLI_ID')\n",
        "\n",
        "# def extract_user_statistics(group: pd.DataFrame) -> pd.Series:\n",
        "#     month_agg = (group\n",
        "#                  .groupby('MOIS_VENTE')\n",
        "#                  .agg({\n",
        "#                      'PRIX_NET': np.sum,\n",
        "#                      'TICKET_ID': lambda x: x.nunique()}))\n",
        "#     month_agg.columns = ['TOTAL_SPENT', 'NUM_TICKETS']\n",
        "\n",
        "#     ticket_agg = (group\n",
        "#                   .groupby('TICKET_ID')\n",
        "#                   .agg({\n",
        "#                       'PRIX_NET': np.sum,\n",
        "#                       'LIBELLE': lambda x: x.count()}))\n",
        "#     ticket_agg.columns = ['TOTAL_SPENT', 'NUM_PRODUCTS']\n",
        "\n",
        "#     data = {\n",
        "#         'TOTAL_ITEM_QTY': group['LIBELLE'].count(),\n",
        "#         'TOTAL_ITEM_VALUE': group['PRIX_NET'].sum(),\n",
        "#         'TOTAL_TICKET_QTY': group['TICKET_ID'].nunique(),\n",
        "#         'MEAN_ITEM_VALUE' : group['PRIX_NET'].mean(),\n",
        "#         'STD_ITEM_VALUE': group['PRIX_NET'].std(ddof=0),\n",
        "#         'VAR_ITEM_VALUE': group['PRIX_NET'].var(ddof=0),\n",
        "#         'SEM_ITEM_VALUE': group['PRIX_NET'].sem(ddof=0),\n",
        "#         'MIN_ITEM_VALUE': group['PRIX_NET'].min(),\n",
        "#         'MAX_ITEM_VALUE': group['PRIX_NET'].max(),\n",
        "#         'MEAN_MONTHLY_SPEND': month_agg['TOTAL_SPENT'].mean(),\n",
        "#         'STD_MONTHLY_SPEND': month_agg['TOTAL_SPENT'].std(ddof=0),\n",
        "#         'VAR_MONTHLY_SPEND': month_agg['TOTAL_SPENT'].var(ddof=0),\n",
        "#         'SEM_MONTHLY_SPEND': month_agg['TOTAL_SPENT'].sem(ddof=0),\n",
        "#         'MIN_MONTHLY_SPEND': month_agg['TOTAL_SPENT'].min(),\n",
        "#         'MAX_MONTHLY_SPEND': month_agg['TOTAL_SPENT'].max(),\n",
        "#         'MEAN_MONTHLY_VISIT': month_agg['NUM_TICKETS'].mean(),\n",
        "#         'STD_MONTHLY_VISIT': month_agg['NUM_TICKETS'].std(ddof=0),\n",
        "#         'VAR_MONTHLY_VISIT': month_agg['NUM_TICKETS'].var(ddof=0),\n",
        "#         'SEM_MONTHLY_VISIT': month_agg['NUM_TICKETS'].sem(ddof=0),\n",
        "#         'MIN_MONTHLY_VISIT': month_agg['NUM_TICKETS'].min(),\n",
        "#         'MAX_MONTHLY_VISIT': month_agg['NUM_TICKETS'].max(),\n",
        "#         'MEAN_TICKET_VALUE': ticket_agg['TOTAL_SPENT'].mean(),\n",
        "#         'STD_TICKET_VALUE': ticket_agg['TOTAL_SPENT'].std(ddof=0),\n",
        "#         'VAR_TICKET_VALUE': ticket_agg['TOTAL_SPENT'].var(ddof=0),\n",
        "#         'SEM_TICKET_VALUE': ticket_agg['TOTAL_SPENT'].sem(ddof=0),\n",
        "#         'MIN_TICKET_VALUE': ticket_agg['TOTAL_SPENT'].min(),\n",
        "#         'MAX_TICKET_VALUE': ticket_agg['TOTAL_SPENT'].max(),\n",
        "#         'MEAN_TICKET_QTY': ticket_agg['NUM_PRODUCTS'].mean(),\n",
        "#         'STD_TICKET_QTY': ticket_agg['NUM_PRODUCTS'].std(ddof=0),\n",
        "#         'VAR_TICKET_QTY': ticket_agg['NUM_PRODUCTS'].var(ddof=0),\n",
        "#         'SEM_TICKET_QTY': ticket_agg['NUM_PRODUCTS'].sem(ddof=0),\n",
        "#         'MIN_TICKET_QTY': ticket_agg['NUM_PRODUCTS'].min(),\n",
        "#         'MAX_TICKET_QTY': ticket_agg['NUM_PRODUCTS'].max()\n",
        "#     }\n",
        "\n",
        "#     return pd.Series(data, index=data.keys())\n",
        "# customer_agg = customer_groups.apply(extract_user_statistics)\n",
        "# customer_agg.to_hdf('/content/ClientSummary.h5', 'client_summary', index=True)\n",
        "\n",
        "\"\"\"\n",
        "Use this code snippet to load in the the presaved customer summary\n",
        "\"\"\"\n",
        "customer_agg = pd.read_hdf(CUSTOMER_DATASET_HDF5_PATH)\n",
        "customer_agg.head(10)"
      ],
      "metadata": {
        "id": "AfzW-0141Bcr",
        "colab": {
          "base_uri": "https://localhost:8080/",
          "height": 458
        },
        "outputId": "a40a2a76-3188-45a1-e079-7537e63f820e"
      },
      "execution_count": 8,
      "outputs": [
        {
          "output_type": "execute_result",
          "data": {
            "text/html": [
              "\n",
              "  <div id=\"df-161ebc01-2b1f-468f-8552-84beb4509f15\">\n",
              "    <div class=\"colab-df-container\">\n",
              "      <div>\n",
              "<style scoped>\n",
              "    .dataframe tbody tr th:only-of-type {\n",
              "        vertical-align: middle;\n",
              "    }\n",
              "\n",
              "    .dataframe tbody tr th {\n",
              "        vertical-align: top;\n",
              "    }\n",
              "\n",
              "    .dataframe thead th {\n",
              "        text-align: right;\n",
              "    }\n",
              "</style>\n",
              "<table border=\"1\" class=\"dataframe\">\n",
              "  <thead>\n",
              "    <tr style=\"text-align: right;\">\n",
              "      <th></th>\n",
              "      <th>TOTAL_ITEM_QTY</th>\n",
              "      <th>TOTAL_ITEM_VALUE</th>\n",
              "      <th>TOTAL_TICKET_QTY</th>\n",
              "      <th>MEAN_ITEM_VALUE</th>\n",
              "      <th>STD_ITEM_VALUE</th>\n",
              "      <th>VAR_ITEM_VALUE</th>\n",
              "      <th>SEM_ITEM_VALUE</th>\n",
              "      <th>MIN_ITEM_VALUE</th>\n",
              "      <th>MAX_ITEM_VALUE</th>\n",
              "      <th>MEAN_MONTHLY_SPEND</th>\n",
              "      <th>STD_MONTHLY_SPEND</th>\n",
              "      <th>VAR_MONTHLY_SPEND</th>\n",
              "      <th>SEM_MONTHLY_SPEND</th>\n",
              "      <th>MIN_MONTHLY_SPEND</th>\n",
              "      <th>MAX_MONTHLY_SPEND</th>\n",
              "      <th>MEAN_MONTHLY_VISIT</th>\n",
              "      <th>STD_MONTHLY_VISIT</th>\n",
              "      <th>VAR_MONTHLY_VISIT</th>\n",
              "      <th>SEM_MONTHLY_VISIT</th>\n",
              "      <th>MIN_MONTHLY_VISIT</th>\n",
              "      <th>MAX_MONTHLY_VISIT</th>\n",
              "      <th>MEAN_TICKET_VALUE</th>\n",
              "      <th>STD_TICKET_VALUE</th>\n",
              "      <th>VAR_TICKET_VALUE</th>\n",
              "      <th>SEM_TICKET_VALUE</th>\n",
              "      <th>MIN_TICKET_VALUE</th>\n",
              "      <th>MAX_TICKET_VALUE</th>\n",
              "      <th>MEAN_TICKET_QTY</th>\n",
              "      <th>STD_TICKET_QTY</th>\n",
              "      <th>VAR_TICKET_QTY</th>\n",
              "      <th>SEM_TICKET_QTY</th>\n",
              "      <th>MIN_TICKET_QTY</th>\n",
              "      <th>MAX_TICKET_QTY</th>\n",
              "    </tr>\n",
              "    <tr>\n",
              "      <th>CLI_ID</th>\n",
              "      <th></th>\n",
              "      <th></th>\n",
              "      <th></th>\n",
              "      <th></th>\n",
              "      <th></th>\n",
              "      <th></th>\n",
              "      <th></th>\n",
              "      <th></th>\n",
              "      <th></th>\n",
              "      <th></th>\n",
              "      <th></th>\n",
              "      <th></th>\n",
              "      <th></th>\n",
              "      <th></th>\n",
              "      <th></th>\n",
              "      <th></th>\n",
              "      <th></th>\n",
              "      <th></th>\n",
              "      <th></th>\n",
              "      <th></th>\n",
              "      <th></th>\n",
              "      <th></th>\n",
              "      <th></th>\n",
              "      <th></th>\n",
              "      <th></th>\n",
              "      <th></th>\n",
              "      <th></th>\n",
              "      <th></th>\n",
              "      <th></th>\n",
              "      <th></th>\n",
              "      <th></th>\n",
              "      <th></th>\n",
              "      <th></th>\n",
              "    </tr>\n",
              "  </thead>\n",
              "  <tbody>\n",
              "    <tr>\n",
              "      <th>1490281</th>\n",
              "      <td>5.0</td>\n",
              "      <td>18.400000</td>\n",
              "      <td>1.0</td>\n",
              "      <td>3.680000</td>\n",
              "      <td>2.511032</td>\n",
              "      <td>6.305280</td>\n",
              "      <td>1.122967</td>\n",
              "      <td>1.66</td>\n",
              "      <td>7.45</td>\n",
              "      <td>18.400000</td>\n",
              "      <td>0.000000</td>\n",
              "      <td>0.000000</td>\n",
              "      <td>0.000000</td>\n",
              "      <td>18.400000</td>\n",
              "      <td>18.400000</td>\n",
              "      <td>1.00</td>\n",
              "      <td>0.000000</td>\n",
              "      <td>0.0000</td>\n",
              "      <td>0.000000</td>\n",
              "      <td>1.0</td>\n",
              "      <td>1.0</td>\n",
              "      <td>18.400000</td>\n",
              "      <td>0.000000</td>\n",
              "      <td>0.000000</td>\n",
              "      <td>0.000000</td>\n",
              "      <td>18.400000</td>\n",
              "      <td>18.400000</td>\n",
              "      <td>5.0</td>\n",
              "      <td>0.000000</td>\n",
              "      <td>0.00</td>\n",
              "      <td>0.000000</td>\n",
              "      <td>5.0</td>\n",
              "      <td>5.0</td>\n",
              "    </tr>\n",
              "    <tr>\n",
              "      <th>13290776</th>\n",
              "      <td>9.0</td>\n",
              "      <td>55.499996</td>\n",
              "      <td>2.0</td>\n",
              "      <td>6.166667</td>\n",
              "      <td>4.072455</td>\n",
              "      <td>16.584888</td>\n",
              "      <td>1.357485</td>\n",
              "      <td>1.75</td>\n",
              "      <td>13.00</td>\n",
              "      <td>27.750000</td>\n",
              "      <td>9.250000</td>\n",
              "      <td>85.562500</td>\n",
              "      <td>6.540738</td>\n",
              "      <td>18.500000</td>\n",
              "      <td>37.000000</td>\n",
              "      <td>1.00</td>\n",
              "      <td>0.000000</td>\n",
              "      <td>0.0000</td>\n",
              "      <td>0.000000</td>\n",
              "      <td>1.0</td>\n",
              "      <td>1.0</td>\n",
              "      <td>27.750000</td>\n",
              "      <td>9.250000</td>\n",
              "      <td>85.562500</td>\n",
              "      <td>6.540738</td>\n",
              "      <td>18.500000</td>\n",
              "      <td>37.000000</td>\n",
              "      <td>4.5</td>\n",
              "      <td>2.500000</td>\n",
              "      <td>6.25</td>\n",
              "      <td>1.767767</td>\n",
              "      <td>2.0</td>\n",
              "      <td>7.0</td>\n",
              "    </tr>\n",
              "    <tr>\n",
              "      <th>20163348</th>\n",
              "      <td>1.0</td>\n",
              "      <td>7.450000</td>\n",
              "      <td>1.0</td>\n",
              "      <td>7.450000</td>\n",
              "      <td>0.000000</td>\n",
              "      <td>0.000000</td>\n",
              "      <td>0.000000</td>\n",
              "      <td>7.45</td>\n",
              "      <td>7.45</td>\n",
              "      <td>7.450000</td>\n",
              "      <td>0.000000</td>\n",
              "      <td>0.000000</td>\n",
              "      <td>0.000000</td>\n",
              "      <td>7.450000</td>\n",
              "      <td>7.450000</td>\n",
              "      <td>1.00</td>\n",
              "      <td>0.000000</td>\n",
              "      <td>0.0000</td>\n",
              "      <td>0.000000</td>\n",
              "      <td>1.0</td>\n",
              "      <td>1.0</td>\n",
              "      <td>7.450000</td>\n",
              "      <td>0.000000</td>\n",
              "      <td>0.000000</td>\n",
              "      <td>0.000000</td>\n",
              "      <td>7.450000</td>\n",
              "      <td>7.450000</td>\n",
              "      <td>1.0</td>\n",
              "      <td>0.000000</td>\n",
              "      <td>0.00</td>\n",
              "      <td>0.000000</td>\n",
              "      <td>1.0</td>\n",
              "      <td>1.0</td>\n",
              "    </tr>\n",
              "    <tr>\n",
              "      <th>20200041</th>\n",
              "      <td>2.0</td>\n",
              "      <td>6.700000</td>\n",
              "      <td>1.0</td>\n",
              "      <td>3.350000</td>\n",
              "      <td>2.100000</td>\n",
              "      <td>4.409999</td>\n",
              "      <td>1.484924</td>\n",
              "      <td>1.25</td>\n",
              "      <td>5.45</td>\n",
              "      <td>6.700000</td>\n",
              "      <td>0.000000</td>\n",
              "      <td>0.000000</td>\n",
              "      <td>0.000000</td>\n",
              "      <td>6.700000</td>\n",
              "      <td>6.700000</td>\n",
              "      <td>1.00</td>\n",
              "      <td>0.000000</td>\n",
              "      <td>0.0000</td>\n",
              "      <td>0.000000</td>\n",
              "      <td>1.0</td>\n",
              "      <td>1.0</td>\n",
              "      <td>6.700000</td>\n",
              "      <td>0.000000</td>\n",
              "      <td>0.000000</td>\n",
              "      <td>0.000000</td>\n",
              "      <td>6.700000</td>\n",
              "      <td>6.700000</td>\n",
              "      <td>2.0</td>\n",
              "      <td>0.000000</td>\n",
              "      <td>0.00</td>\n",
              "      <td>0.000000</td>\n",
              "      <td>2.0</td>\n",
              "      <td>2.0</td>\n",
              "    </tr>\n",
              "    <tr>\n",
              "      <th>20561854</th>\n",
              "      <td>3.0</td>\n",
              "      <td>7.050000</td>\n",
              "      <td>1.0</td>\n",
              "      <td>2.350000</td>\n",
              "      <td>0.535413</td>\n",
              "      <td>0.286667</td>\n",
              "      <td>0.309121</td>\n",
              "      <td>1.65</td>\n",
              "      <td>2.95</td>\n",
              "      <td>7.050000</td>\n",
              "      <td>0.000000</td>\n",
              "      <td>0.000000</td>\n",
              "      <td>0.000000</td>\n",
              "      <td>7.050000</td>\n",
              "      <td>7.050000</td>\n",
              "      <td>1.00</td>\n",
              "      <td>0.000000</td>\n",
              "      <td>0.0000</td>\n",
              "      <td>0.000000</td>\n",
              "      <td>1.0</td>\n",
              "      <td>1.0</td>\n",
              "      <td>7.050000</td>\n",
              "      <td>0.000000</td>\n",
              "      <td>0.000000</td>\n",
              "      <td>0.000000</td>\n",
              "      <td>7.050000</td>\n",
              "      <td>7.050000</td>\n",
              "      <td>3.0</td>\n",
              "      <td>0.000000</td>\n",
              "      <td>0.00</td>\n",
              "      <td>0.000000</td>\n",
              "      <td>3.0</td>\n",
              "      <td>3.0</td>\n",
              "    </tr>\n",
              "    <tr>\n",
              "      <th>20727324</th>\n",
              "      <td>5.0</td>\n",
              "      <td>13.250000</td>\n",
              "      <td>2.0</td>\n",
              "      <td>2.650000</td>\n",
              "      <td>1.277106</td>\n",
              "      <td>1.631000</td>\n",
              "      <td>0.571139</td>\n",
              "      <td>1.45</td>\n",
              "      <td>4.95</td>\n",
              "      <td>13.250000</td>\n",
              "      <td>0.000000</td>\n",
              "      <td>0.000000</td>\n",
              "      <td>0.000000</td>\n",
              "      <td>13.250000</td>\n",
              "      <td>13.250000</td>\n",
              "      <td>2.00</td>\n",
              "      <td>0.000000</td>\n",
              "      <td>0.0000</td>\n",
              "      <td>0.000000</td>\n",
              "      <td>2.0</td>\n",
              "      <td>2.0</td>\n",
              "      <td>6.625000</td>\n",
              "      <td>5.125000</td>\n",
              "      <td>26.265625</td>\n",
              "      <td>3.623922</td>\n",
              "      <td>1.500000</td>\n",
              "      <td>11.750000</td>\n",
              "      <td>2.5</td>\n",
              "      <td>1.500000</td>\n",
              "      <td>2.25</td>\n",
              "      <td>1.060660</td>\n",
              "      <td>1.0</td>\n",
              "      <td>4.0</td>\n",
              "    </tr>\n",
              "    <tr>\n",
              "      <th>20791601</th>\n",
              "      <td>4.0</td>\n",
              "      <td>23.799999</td>\n",
              "      <td>1.0</td>\n",
              "      <td>5.950000</td>\n",
              "      <td>0.707107</td>\n",
              "      <td>0.500000</td>\n",
              "      <td>0.353553</td>\n",
              "      <td>4.95</td>\n",
              "      <td>6.95</td>\n",
              "      <td>23.799999</td>\n",
              "      <td>0.000000</td>\n",
              "      <td>0.000000</td>\n",
              "      <td>0.000000</td>\n",
              "      <td>23.799999</td>\n",
              "      <td>23.799999</td>\n",
              "      <td>1.00</td>\n",
              "      <td>0.000000</td>\n",
              "      <td>0.0000</td>\n",
              "      <td>0.000000</td>\n",
              "      <td>1.0</td>\n",
              "      <td>1.0</td>\n",
              "      <td>23.799999</td>\n",
              "      <td>0.000000</td>\n",
              "      <td>0.000000</td>\n",
              "      <td>0.000000</td>\n",
              "      <td>23.799999</td>\n",
              "      <td>23.799999</td>\n",
              "      <td>4.0</td>\n",
              "      <td>0.000000</td>\n",
              "      <td>0.00</td>\n",
              "      <td>0.000000</td>\n",
              "      <td>4.0</td>\n",
              "      <td>4.0</td>\n",
              "    </tr>\n",
              "    <tr>\n",
              "      <th>21046542</th>\n",
              "      <td>32.0</td>\n",
              "      <td>166.199982</td>\n",
              "      <td>5.0</td>\n",
              "      <td>5.193749</td>\n",
              "      <td>3.258301</td>\n",
              "      <td>10.616524</td>\n",
              "      <td>0.575992</td>\n",
              "      <td>1.25</td>\n",
              "      <td>12.95</td>\n",
              "      <td>41.549999</td>\n",
              "      <td>23.977568</td>\n",
              "      <td>574.923706</td>\n",
              "      <td>11.988783</td>\n",
              "      <td>11.300000</td>\n",
              "      <td>78.449997</td>\n",
              "      <td>1.25</td>\n",
              "      <td>0.433013</td>\n",
              "      <td>0.1875</td>\n",
              "      <td>0.216506</td>\n",
              "      <td>1.0</td>\n",
              "      <td>2.0</td>\n",
              "      <td>33.239998</td>\n",
              "      <td>21.911718</td>\n",
              "      <td>480.123383</td>\n",
              "      <td>9.799218</td>\n",
              "      <td>9.250000</td>\n",
              "      <td>69.199997</td>\n",
              "      <td>6.4</td>\n",
              "      <td>4.079216</td>\n",
              "      <td>16.64</td>\n",
              "      <td>1.824281</td>\n",
              "      <td>2.0</td>\n",
              "      <td>14.0</td>\n",
              "    </tr>\n",
              "    <tr>\n",
              "      <th>21239163</th>\n",
              "      <td>5.0</td>\n",
              "      <td>12.650000</td>\n",
              "      <td>1.0</td>\n",
              "      <td>2.530000</td>\n",
              "      <td>1.843258</td>\n",
              "      <td>3.397600</td>\n",
              "      <td>0.824330</td>\n",
              "      <td>1.50</td>\n",
              "      <td>6.20</td>\n",
              "      <td>12.650000</td>\n",
              "      <td>0.000000</td>\n",
              "      <td>0.000000</td>\n",
              "      <td>0.000000</td>\n",
              "      <td>12.650000</td>\n",
              "      <td>12.650000</td>\n",
              "      <td>1.00</td>\n",
              "      <td>0.000000</td>\n",
              "      <td>0.0000</td>\n",
              "      <td>0.000000</td>\n",
              "      <td>1.0</td>\n",
              "      <td>1.0</td>\n",
              "      <td>12.650000</td>\n",
              "      <td>0.000000</td>\n",
              "      <td>0.000000</td>\n",
              "      <td>0.000000</td>\n",
              "      <td>12.650000</td>\n",
              "      <td>12.650000</td>\n",
              "      <td>5.0</td>\n",
              "      <td>0.000000</td>\n",
              "      <td>0.00</td>\n",
              "      <td>0.000000</td>\n",
              "      <td>5.0</td>\n",
              "      <td>5.0</td>\n",
              "    </tr>\n",
              "    <tr>\n",
              "      <th>21351166</th>\n",
              "      <td>2.0</td>\n",
              "      <td>7.400000</td>\n",
              "      <td>1.0</td>\n",
              "      <td>3.700000</td>\n",
              "      <td>0.750000</td>\n",
              "      <td>0.562500</td>\n",
              "      <td>0.530330</td>\n",
              "      <td>2.95</td>\n",
              "      <td>4.45</td>\n",
              "      <td>7.400000</td>\n",
              "      <td>0.000000</td>\n",
              "      <td>0.000000</td>\n",
              "      <td>0.000000</td>\n",
              "      <td>7.400000</td>\n",
              "      <td>7.400000</td>\n",
              "      <td>1.00</td>\n",
              "      <td>0.000000</td>\n",
              "      <td>0.0000</td>\n",
              "      <td>0.000000</td>\n",
              "      <td>1.0</td>\n",
              "      <td>1.0</td>\n",
              "      <td>7.400000</td>\n",
              "      <td>0.000000</td>\n",
              "      <td>0.000000</td>\n",
              "      <td>0.000000</td>\n",
              "      <td>7.400000</td>\n",
              "      <td>7.400000</td>\n",
              "      <td>2.0</td>\n",
              "      <td>0.000000</td>\n",
              "      <td>0.00</td>\n",
              "      <td>0.000000</td>\n",
              "      <td>2.0</td>\n",
              "      <td>2.0</td>\n",
              "    </tr>\n",
              "  </tbody>\n",
              "</table>\n",
              "</div>\n",
              "      <button class=\"colab-df-convert\" onclick=\"convertToInteractive('df-161ebc01-2b1f-468f-8552-84beb4509f15')\"\n",
              "              title=\"Convert this dataframe to an interactive table.\"\n",
              "              style=\"display:none;\">\n",
              "        \n",
              "  <svg xmlns=\"http://www.w3.org/2000/svg\" height=\"24px\"viewBox=\"0 0 24 24\"\n",
              "       width=\"24px\">\n",
              "    <path d=\"M0 0h24v24H0V0z\" fill=\"none\"/>\n",
              "    <path d=\"M18.56 5.44l.94 2.06.94-2.06 2.06-.94-2.06-.94-.94-2.06-.94 2.06-2.06.94zm-11 1L8.5 8.5l.94-2.06 2.06-.94-2.06-.94L8.5 2.5l-.94 2.06-2.06.94zm10 10l.94 2.06.94-2.06 2.06-.94-2.06-.94-.94-2.06-.94 2.06-2.06.94z\"/><path d=\"M17.41 7.96l-1.37-1.37c-.4-.4-.92-.59-1.43-.59-.52 0-1.04.2-1.43.59L10.3 9.45l-7.72 7.72c-.78.78-.78 2.05 0 2.83L4 21.41c.39.39.9.59 1.41.59.51 0 1.02-.2 1.41-.59l7.78-7.78 2.81-2.81c.8-.78.8-2.07 0-2.86zM5.41 20L4 18.59l7.72-7.72 1.47 1.35L5.41 20z\"/>\n",
              "  </svg>\n",
              "      </button>\n",
              "      \n",
              "  <style>\n",
              "    .colab-df-container {\n",
              "      display:flex;\n",
              "      flex-wrap:wrap;\n",
              "      gap: 12px;\n",
              "    }\n",
              "\n",
              "    .colab-df-convert {\n",
              "      background-color: #E8F0FE;\n",
              "      border: none;\n",
              "      border-radius: 50%;\n",
              "      cursor: pointer;\n",
              "      display: none;\n",
              "      fill: #1967D2;\n",
              "      height: 32px;\n",
              "      padding: 0 0 0 0;\n",
              "      width: 32px;\n",
              "    }\n",
              "\n",
              "    .colab-df-convert:hover {\n",
              "      background-color: #E2EBFA;\n",
              "      box-shadow: 0px 1px 2px rgba(60, 64, 67, 0.3), 0px 1px 3px 1px rgba(60, 64, 67, 0.15);\n",
              "      fill: #174EA6;\n",
              "    }\n",
              "\n",
              "    [theme=dark] .colab-df-convert {\n",
              "      background-color: #3B4455;\n",
              "      fill: #D2E3FC;\n",
              "    }\n",
              "\n",
              "    [theme=dark] .colab-df-convert:hover {\n",
              "      background-color: #434B5C;\n",
              "      box-shadow: 0px 1px 3px 1px rgba(0, 0, 0, 0.15);\n",
              "      filter: drop-shadow(0px 1px 2px rgba(0, 0, 0, 0.3));\n",
              "      fill: #FFFFFF;\n",
              "    }\n",
              "  </style>\n",
              "\n",
              "      <script>\n",
              "        const buttonEl =\n",
              "          document.querySelector('#df-161ebc01-2b1f-468f-8552-84beb4509f15 button.colab-df-convert');\n",
              "        buttonEl.style.display =\n",
              "          google.colab.kernel.accessAllowed ? 'block' : 'none';\n",
              "\n",
              "        async function convertToInteractive(key) {\n",
              "          const element = document.querySelector('#df-161ebc01-2b1f-468f-8552-84beb4509f15');\n",
              "          const dataTable =\n",
              "            await google.colab.kernel.invokeFunction('convertToInteractive',\n",
              "                                                     [key], {});\n",
              "          if (!dataTable) return;\n",
              "\n",
              "          const docLinkHtml = 'Like what you see? Visit the ' +\n",
              "            '<a target=\"_blank\" href=https://colab.research.google.com/notebooks/data_table.ipynb>data table notebook</a>'\n",
              "            + ' to learn more about interactive tables.';\n",
              "          element.innerHTML = '';\n",
              "          dataTable['output_type'] = 'display_data';\n",
              "          await google.colab.output.renderOutput(dataTable, element);\n",
              "          const docLink = document.createElement('div');\n",
              "          docLink.innerHTML = docLinkHtml;\n",
              "          element.appendChild(docLink);\n",
              "        }\n",
              "      </script>\n",
              "    </div>\n",
              "  </div>\n",
              "  "
            ],
            "text/plain": [
              "          TOTAL_ITEM_QTY  TOTAL_ITEM_VALUE  ...  MIN_TICKET_QTY  MAX_TICKET_QTY\n",
              "CLI_ID                                      ...                                \n",
              "1490281              5.0         18.400000  ...             5.0             5.0\n",
              "13290776             9.0         55.499996  ...             2.0             7.0\n",
              "20163348             1.0          7.450000  ...             1.0             1.0\n",
              "20200041             2.0          6.700000  ...             2.0             2.0\n",
              "20561854             3.0          7.050000  ...             3.0             3.0\n",
              "20727324             5.0         13.250000  ...             1.0             4.0\n",
              "20791601             4.0         23.799999  ...             4.0             4.0\n",
              "21046542            32.0        166.199982  ...             2.0            14.0\n",
              "21239163             5.0         12.650000  ...             5.0             5.0\n",
              "21351166             2.0          7.400000  ...             2.0             2.0\n",
              "\n",
              "[10 rows x 33 columns]"
            ]
          },
          "metadata": {},
          "execution_count": 8
        }
      ]
    },
    {
      "cell_type": "markdown",
      "source": [
        "#Dimensionality reduction\n",
        "Now having all this data is great but too much data is also problem. We want to ensure here that we steer away from the curse of dimensionality by reducing the number of dimensions in our dataset.\n",
        "\n",
        "To do this we will be using the tried and true method of Principal Component Analysis(PCA). We want to ensure that the number of clusters chosen still reflects at least 95% of the variance of the dataset to be safe."
      ],
      "metadata": {
        "id": "xQzW6QGgartr"
      }
    },
    {
      "cell_type": "code",
      "source": [
        "X = customer_agg\n",
        "pca = PCA(n_components=0.95)\n",
        "X_reduced = pca.fit_transform(X)"
      ],
      "metadata": {
        "id": "or7N8HhdarK0"
      },
      "execution_count": 9,
      "outputs": []
    },
    {
      "cell_type": "markdown",
      "source": [
        "Now let's plot a biplot in the efforts of identifying our most influential features in the dataset.\n",
        "\n"
      ],
      "metadata": {
        "id": "DdW18IonHHNq"
      }
    },
    {
      "cell_type": "code",
      "source": [
        "def biplot(score, coeff, labels=None):\n",
        "    xs = score[:, 0]\n",
        "    ys = score[:, 1]\n",
        "    n = coeff.shape[0]\n",
        "    scalex = 1.0 / (xs.max()- xs.min())\n",
        "    scaley = 1.0 / (ys.max()- ys.min())\n",
        "    plt.scatter(xs * scalex, ys * scaley, color='#c7e9c0', edgecolor='#006d2c', alpha=0.5)\n",
        "    for i in range(n):\n",
        "        plt.arrow(0, 0, coeff[i, 0], coeff[i, 1], color='#253494', alpha=0.5, lw=2) \n",
        "        if labels is None:\n",
        "            plt.text(coeff[i, 0] * 1.15, coeff[i, 1] * 1.15, f'Var{str(i + 1)}', color='#000000', ha='center', va='center')\n",
        "        else:\n",
        "            plt.text(coeff[i, 0] * 1.15, coeff[i, 1] * 1.15, labels[i], color='#000000', ha='center', va='center')\n",
        "    plt.xlim(-2, 2)\n",
        "    plt.ylim(-2, 2)\n",
        "    plt.grid(False)\n",
        "    # plt.xticks(np.arange(0, 1, 0.5), size=12)\n",
        "    # plt.yticks(np.arange(-0.75, 1, 0.5), size=12)\n",
        "    plt.xlabel('PC0', size=14)\n",
        "    plt.ylabel('PC1', size=14)\n",
        "    plt.gca().spines[\"top\"].set_visible(False)\n",
        "    plt.gca().spines[\"right\"].set_visible(False)\n",
        "\n",
        "biplot(X_reduced[:, 0:2], np.transpose(pca.components_[0:2, :]), labels=X.columns)"
      ],
      "metadata": {
        "colab": {
          "base_uri": "https://localhost:8080/",
          "height": 287
        },
        "id": "BYxJ-VRkHS1g",
        "outputId": "a16cd419-aed6-4813-be01-a11a78495e18"
      },
      "execution_count": 10,
      "outputs": [
        {
          "output_type": "display_data",
          "data": {
            "image/png": "[encoded data removed]",
            "text/plain": [
              "<Figure size 432x288 with 1 Axes>"
            ]
          },
          "metadata": {
            "needs_background": "light"
          }
        }
      ]
    },
    {
      "cell_type": "markdown",
      "source": [
        "That didnt help us much considering we have so many features in our dataset. Let use some simple code to help us to identify what features are need to maintain that 95% we spoke about earlier."
      ],
      "metadata": {
        "id": "guzQdU7yJAOj"
      }
    },
    {
      "cell_type": "code",
      "source": [
        "num_primary_components = pca.components_.shape[0]\n",
        "\n",
        "# get the index of the most important feature on EACH component\n",
        "# LIST COMPREHENSION HERE\n",
        "most_important = [np.abs(pca.components_[i]).argmax() for i in range(num_primary_components)]\n",
        "\n",
        "initial_feature_names = X.columns\n",
        "\n",
        "# get the names\n",
        "most_important_names = [initial_feature_names[most_important[i]] for i in range(num_primary_components)]\n",
        "\n",
        "# LIST COMPREHENSION HERE AGAIN\n",
        "dic = {'PC{}'.format(i): most_important_names[i] for i in range(num_primary_components)}\n",
        "\n",
        "# build the dataframe\n",
        "component_df = pd.DataFrame(dic.items())\n",
        "print(component_df)"
      ],
      "metadata": {
        "colab": {
          "base_uri": "https://localhost:8080/"
        },
        "id": "coJtAAauJdey",
        "outputId": "9a040a45-92b3-4a2a-dfee-f604342b3a3f"
      },
      "execution_count": 11,
      "outputs": [
        {
          "output_type": "stream",
          "name": "stdout",
          "text": [
            "     0                  1\n",
            "0  PC0  VAR_MONTHLY_SPEND\n",
            "1  PC1   VAR_TICKET_VALUE\n"
          ]
        }
      ]
    },
    {
      "cell_type": "markdown",
      "source": [
        "Here we can see that the most influential features in our dataset seem to be the variance in monthly spending of a client along with the variance in ticket total of a client."
      ],
      "metadata": {
        "id": "0jowXFnqLCqg"
      }
    },
    {
      "cell_type": "markdown",
      "source": [
        "#Clustering\n",
        "\n",
        "Now that we've appropriately reduced our dimensions we can start with clustering. How do we know how many clusters to use before hand ? We don't...However, we can run tests to determine which number of clusters is the optimal amount. Here we will be using the elbow method to get this done."
      ],
      "metadata": {
        "id": "P5F-LpysMWVb"
      }
    },
    {
      "cell_type": "code",
      "source": [
        "inertia = []\n",
        "\n",
        "for i in range(2, 11):\n",
        "    km = KMeans(n_clusters=i, init='k-means++', max_iter=300, n_init=10, random_state=0)\n",
        "    cluster_labels = km.fit_predict(X_reduced)\n",
        "    # Keep data for elbow method optimization\n",
        "    inertia.append(km.inertia_)\n",
        "\n",
        "plt.plot(range(2, 11), inertia, c=\"#c51b7d\")\n",
        "plt.gca().spines[\"top\"].set_visible(False)\n",
        "plt.gca().spines[\"right\"].set_visible(False)\n",
        "plt.title('Elbow Method', size=14)\n",
        "plt.xlabel('Number of clusters', size=12)\n",
        "plt.ylabel('Inertia', size=12)\n",
        "plt.show() \n",
        "\n"
      ],
      "metadata": {
        "colab": {
          "base_uri": "https://localhost:8080/",
          "height": 299
        },
        "id": "E3opCfkYMVzv",
        "outputId": "2199cec1-679c-4fe6-90e4-1363d40c0634"
      },
      "execution_count": 12,
      "outputs": [
        {
          "output_type": "display_data",
          "data": {
            "image/png": "[encoded data removed]",
            "text/plain": [
              "<Figure size 432x288 with 1 Axes>"
            ]
          },
          "metadata": {
            "needs_background": "light"
          }
        }
      ]
    },
    {
      "cell_type": "markdown",
      "source": [
        "From the graph above we the intertia drops very quickly as we increase k up to 7 but then it increase much slower after that point. From this we can deduce that 7 clusters is most likely our best bet.\n",
        "\n",
        "Now let's train our final model with these parameters!"
      ],
      "metadata": {
        "id": "gC3JyczOzpfF"
      }
    },
    {
      "cell_type": "code",
      "source": [
        "kmeans = KMeans(n_clusters=7, init='k-means++', max_iter=10, n_init=10, random_state=0)\n",
        "\n",
        "final_cluster_labels = kmeans.fit_predict(X_reduced)"
      ],
      "metadata": {
        "id": "Cr3PAykTYyJK"
      },
      "execution_count": 13,
      "outputs": []
    },
    {
      "cell_type": "markdown",
      "source": [
        "# Displaying clusters\n",
        "\n",
        "Now that our model has been train and has predicted the clusters of our data instances lets display them on a graph to gain a clearer understanding."
      ],
      "metadata": {
        "id": "OLF76vNu0Xxu"
      }
    },
    {
      "cell_type": "code",
      "source": [
        "fig, ax = plt.subplots(figsize = (16, 6))\n",
        "\n",
        "plt.scatter(X_reduced[:, 0], X_reduced[:, 1],\n",
        "            c=final_cluster_labels, \n",
        "            edgecolor=\"none\", \n",
        "            cmap=plt.cm.get_cmap(\"Spectral_r\", 7),\n",
        "            alpha=0.5)\n",
        "        \n",
        "plt.gca().spines[\"top\"].set_visible(False)\n",
        "plt.gca().spines[\"right\"].set_visible(False)\n",
        "plt.gca().spines[\"bottom\"].set_visible(False)\n",
        "plt.gca().spines[\"left\"].set_visible(False)\n",
        "\n",
        "plt.xticks(size=12)\n",
        "plt.yticks(size=12)\n",
        "\n",
        "plt.xlabel(\"PC0\", size = 14, labelpad=10)\n",
        "plt.ylabel(\"PC1\", size = 14, labelpad=10)\n",
        "\n",
        "plt.title('Clients grouped into 7 clusters', size=16)\n",
        "\n",
        "\n",
        "plt.colorbar(ticks=[0, 1, 2, 3, 4, 5, 6]);\n",
        "\n",
        "plt.show()"
      ],
      "metadata": {
        "colab": {
          "base_uri": "https://localhost:8080/",
          "height": 419
        },
        "id": "DcMf0I56aS06",
        "outputId": "f95c63e9-d263-4258-8417-2cc8ac76b096"
      },
      "execution_count": 14,
      "outputs": [
        {
          "output_type": "display_data",
          "data": {
            "image/png": "[encoded data removed]",
            "text/plain": [
              "<Figure size 1152x432 with 2 Axes>"
            ]
          },
          "metadata": {
            "needs_background": "light"
          }
        }
      ]
    },
    {
      "cell_type": "markdown",
      "source": [
        "Because we used dimensionaity reduction the the PC0 and PC1 no longer mean much to us. To regain some visibility let's idenitfy our cluster centers and reverse the dimension reduction on these points."
      ],
      "metadata": {
        "id": "N5aKnMXP0s7n"
      }
    },
    {
      "cell_type": "code",
      "source": [
        "centroids_recovered = pca.inverse_transform(kmeans.cluster_centers_)\n",
        "centroids = pd.DataFrame(\n",
        "    centroids_recovered,\n",
        "    columns=[\n",
        "        'TOTAL_ITEM_QTY',\n",
        "        'TOTAL_ITEM_VALUE',\n",
        "        'TOTAL_TICKET_QTY',\n",
        "        'MEAN_ITEM_VALUE' ,\n",
        "        'STD_ITEM_VALUE',\n",
        "        'VAR_ITEM_VALUE',\n",
        "        'SEM_ITEM_VALUE',\n",
        "        'MIN_ITEM_VALUE',\n",
        "        'MAX_ITEM_VALUE',\n",
        "        'MEAN_MONTHLY_SPEND',\n",
        "        'STD_MONTHLY_SPEND',\n",
        "        'VAR_MONTHLY_SPEND',\n",
        "        'SEM_MONTHLY_SPEND',\n",
        "        'MIN_MONTHLY_SPEND',\n",
        "        'MAX_MONTHLY_SPEND',\n",
        "        'MEAN_MONTHLY_VISIT',\n",
        "        'STD_MONTHLY_VISIT',\n",
        "        'VAR_MONTHLY_VISIT',\n",
        "        'SEM_MONTHLY_VISIT',\n",
        "        'MIN_MONTHLY_VISIT',\n",
        "        'MAX_MONTHLY_VISIT',\n",
        "        'MEAN_TICKET_VALUE',\n",
        "        'STD_TICKET_VALUE',\n",
        "        'VAR_TICKET_VALUE',\n",
        "        'SEM_TICKET_VALUE',\n",
        "        'MIN_TICKET_VALUE',\n",
        "        'MAX_TICKET_VALUE',\n",
        "        'MEAN_TICKET_QTY',\n",
        "        'STD_TICKET_QTY',\n",
        "        'VAR_TICKET_QTY',\n",
        "        'SEM_TICKET_QTY',\n",
        "        'MIN_TICKET_QTY',\n",
        "        'MAX_TICKET_QTY',\n",
        "    ])\n",
        "\n",
        "\n",
        "\n",
        "centroids.index_name = \"ClusterID\"\n",
        "centroids[\"ClusterID\"] = centroids.index\n",
        "centroids = centroids.reset_index(drop=True)\n",
        "\n",
        "\n",
        "\n",
        "\n",
        "pd.set_option('display.float_format', str)\n",
        "print(centroids[['VAR_MONTHLY_SPEND', 'VAR_TICKET_VALUE', 'ClusterID']])\n",
        "print(type(kmeans.cluster_centers_))"
      ],
      "metadata": {
        "colab": {
          "base_uri": "https://localhost:8080/"
        },
        "id": "b45lMX1Ufwd0",
        "outputId": "8eba6ef4-d575-45a9-b00a-07229fb0647a"
      },
      "execution_count": 15,
      "outputs": [
        {
          "output_type": "stream",
          "name": "stdout",
          "text": [
            "   VAR_MONTHLY_SPEND   VAR_TICKET_VALUE  ClusterID\n",
            "0  87.93242884278635  63.03049515933092          0\n",
            "1 1269951.8484338652  618620.5294677002          1\n",
            "2 2700016.9123336435   97999.6140539592          2\n",
            "3  57828.39360716145 31533.268025228066          3\n",
            "4  574148.8752810098 479714.15645509755          4\n",
            "5  40.70201785394816  741359.1351921166          5\n",
            "6  298587.2785932645  186411.5156892337          6\n",
            "<class 'numpy.ndarray'>\n"
          ]
        }
      ]
    },
    {
      "cell_type": "markdown",
      "source": [
        "# Conclusion\n",
        "From this experiment we were able to segment a sample of our customer population into 7 groups. We can now use this information to recommend products to our customers and have a more in depth understanding of who they are their behaviours."
      ],
      "metadata": {
        "id": "tPOC0Fa81No4"
      }
    }
  ]
}